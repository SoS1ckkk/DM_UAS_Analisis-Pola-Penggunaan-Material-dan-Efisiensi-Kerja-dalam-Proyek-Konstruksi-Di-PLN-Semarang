
import pandas as pd

# Load the dataset
file_path = "Data set fix.xlsx"
df = pd.read_excel(file_path)

# Preview the first few rows of the dataset
print("Preview of the data:")
print(df.head())

# Data preprocessing
# Convert 'VOLUME' column to numeric if it's stored as a string with units
def extract_numeric_volume(volume):
    if isinstance(volume, str):
        return float(''.join(filter(str.isdigit, volume)))
    return volume

df['VOLUME'] = df['VOLUME'].apply(extract_numeric_volume)

# Group data by 'PETUGAS' and calculate the total volume for each material
efficiency = df.groupby(['PETUGAS', 'MATERIAL'])['VOLUME'].sum().reset_index()

# Rename columns for clarity
efficiency.columns = ['Petugas', 'Material', 'Total Volume']

# Sort by efficiency (lowest volume first)
efficiency_sorted = efficiency.sort_values(by='Total Volume', ascending=True)

# Display sorted efficiency data
print("Efficiency ranking of employees:")
print(efficiency_sorted)

# Save to Excel (optional)
output_file = "Efficiency_Ranking.xlsx"
efficiency_sorted.to_excel(output_file, index=False)
print(f"Efficiency ranking saved to {output_file}")

# Visualization (optional)
import matplotlib.pyplot as plt
import seaborn as sns

# Bar plot for efficiency ranking
plt.figure(figsize=(10, 6))
sns.barplot(
    data=efficiency_sorted,
    x='Total Volume',
    y='Petugas',
    hue='Material',
    dodge=False
)
plt.title('Employee Efficiency Based on Material Usage')
plt.xlabel('Total Volume')
plt.ylabel('Petugas')
plt.legend(title='Material')
plt.tight_layout()
plt.show()
